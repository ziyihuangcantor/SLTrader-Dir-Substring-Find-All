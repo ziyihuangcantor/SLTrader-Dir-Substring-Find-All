{
 "cells": [
  {
   "cell_type": "code",
   "execution_count": 1,
   "id": "3b714ccc",
   "metadata": {},
   "outputs": [],
   "source": [
    "import os\n",
    "import xml.etree.ElementTree as et"
   ]
  },
  {
   "cell_type": "code",
   "execution_count": 2,
   "id": "2d13d7cd",
   "metadata": {},
   "outputs": [
    {
     "data": {
      "text/plain": [
       "['C:/Projects/StockLoans/Src/SLTrader/SiteMaps/Web-Administraton.sitemap',\n",
       " 'C:/Projects/StockLoans/Src/SLTrader/SiteMaps/Web-CashSourcing.sitemap',\n",
       " 'C:/Projects/StockLoans/Src/SLTrader/SiteMaps/Web-Compliance.sitemap',\n",
       " 'C:/Projects/StockLoans/Src/SLTrader/SiteMaps/Web-Dashboard.sitemap',\n",
       " 'C:/Projects/StockLoans/Src/SLTrader/SiteMaps/Web-DomesticTrading.sitemap',\n",
       " 'C:/Projects/StockLoans/Src/SLTrader/SiteMaps/Web-FailMaster.sitemap',\n",
       " 'C:/Projects/StockLoans/Src/SLTrader/SiteMaps/Web-Header.sitemap',\n",
       " 'C:/Projects/StockLoans/Src/SLTrader/SiteMaps/Web-Locate.sitemap',\n",
       " 'C:/Projects/StockLoans/Src/SLTrader/SiteMaps/Web-RebateBilling.sitemap']"
      ]
     },
     "execution_count": 2,
     "metadata": {},
     "output_type": "execute_result"
    }
   ],
   "source": [
    "# Extracts all sitemap path to a list for preview\n",
    "\n",
    "SLTrader_sitemap_path = \"C:/Projects/StockLoans/Src/SLTrader/SiteMaps\"\n",
    "\n",
    "SLTrader_sitemap_lst = []\n",
    "\n",
    "for root, dirs, files in os.walk(SLTrader_sitemap_path):\n",
    "    for file in files:\n",
    "        with open(os.path.join(root, file), 'r') as f:\n",
    "            my_dir = str(os.path.join(root,file))\n",
    "            target_dir = my_dir.replace('\\\\', '/')\n",
    "            SLTrader_sitemap_lst.append(target_dir)\n",
    "            \n",
    "SLTrader_sitemap_lst"
   ]
  },
  {
   "cell_type": "code",
   "execution_count": 3,
   "id": "660646e4",
   "metadata": {},
   "outputs": [],
   "source": [
    "# Parses xml sitemap to a nested dict\n",
    "\n",
    "def parse_xml_sitemap(path):\n",
    "    my_tree = et.parse(path)\n",
    "    my_root = my_tree.getroot()\n",
    "    \n",
    "    temp_dict = {}\n",
    "\n",
    "    curr_parent = None\n",
    "\n",
    "    for node in my_root.iter():\n",
    "        node_dict = node.attrib\n",
    "\n",
    "        # Exception case for RebateBilling \n",
    "        if 'title' in node_dict and node_dict['title'] == 'Billing':\n",
    "            title = node_dict['title']\n",
    "            url = node_dict['url']\n",
    "            temp_dict[title] = url.replace('~', 'C:/Projects/StockLoans/Src/SLTrader')\n",
    "            curr_parent = title\n",
    "            continue\n",
    "\n",
    "        if 'location' in node_dict:\n",
    "            title = node_dict['title']\n",
    "            temp_dict[title] = {}\n",
    "            curr_parent = title\n",
    "        elif 'url' in node_dict:\n",
    "            sub_title = node_dict['title']\n",
    "            url = node_dict['url']\n",
    "            temp_dict[curr_parent][sub_title] = url.replace('~', 'C:/Projects/StockLoans/Src/SLTrader')\n",
    "            \n",
    "    return temp_dict"
   ]
  },
  {
   "cell_type": "code",
   "execution_count": 4,
   "id": "b20bb226",
   "metadata": {},
   "outputs": [],
   "source": [
    "# Checks if attributes t_1 to t_5 are included in the .cshtml file \n",
    "\n",
    "def deafult_column_settings_check(path):\n",
    "    t_1 = '.Scrollable'\n",
    "    t_2 = '.Reorderable'\n",
    "    t_3 = '.Navigatable'\n",
    "    t_4 = '.Selectable'\n",
    "    t_5 = '.Resizable'\n",
    "    \n",
    "    grid_name_mark = '.Name('\n",
    "    \n",
    "    start_mark = 'Html.Kendo().Grid'\n",
    "    end_mark = '.Read'\n",
    "    end_mark_2 = '.Action'\n",
    "    \n",
    "    can_check = False\n",
    "    \n",
    "    is_scrollable = False\n",
    "    is_reorderable = False\n",
    "    is_navigatable = False\n",
    "    is_selectable = False\n",
    "    is_resizable = False\n",
    "    \n",
    "    error_msg = []\n",
    "    \n",
    "    current_grid = 0\n",
    "    current_grid_name = ''\n",
    "                    \n",
    "    with open(path, 'r') as f2:\n",
    "        lines = f2.readlines()\n",
    "        for line in lines:\n",
    "            # Marks checking start\n",
    "            if start_mark.lower() in line.lower():\n",
    "                can_check = True\n",
    "                current_grid = current_grid + 1\n",
    "                continue\n",
    "            \n",
    "            # Marks checking stop and append the error msg if any\n",
    "            if (end_mark.lower() and end_mark_2.lower() in line.lower()) and can_check is True:\n",
    "                can_check = False\n",
    "                \n",
    "                if is_scrollable is False:\n",
    "                    error_msg.append('not Scrollable in grid ' + str(current_grid_name))\n",
    "                elif is_reorderable is False:\n",
    "                    error_msg.append('not Reorderable in grid ' + str(current_grid_name))\n",
    "                elif is_navigatable is False:\n",
    "                    error_msg.append('not Navigatable in grid ' + str(current_grid_name))\n",
    "                elif is_selectable is False:\n",
    "                    error_msg.append('not Selectable in grid ' + str(current_grid_name))\n",
    "                elif is_resizable is False:\n",
    "                    error_msg.append('not Resizable in grid ' + str(current_grid_name))\n",
    "                \n",
    "                # Resets check flags\n",
    "                is_scrollable = False\n",
    "                is_reorderable = False\n",
    "                is_navigatable = False\n",
    "                is_selectable = False\n",
    "                is_resizable = False\n",
    "                    \n",
    "                continue\n",
    "            \n",
    "            # Check not allowed, continued...\n",
    "            if can_check is False:\n",
    "                continue\n",
    "            \n",
    "            # Extracts and stores the current grid name \n",
    "            if grid_name_mark.lower() in line.lower():\n",
    "                my_str = line.strip()\n",
    "                current_grid_name = my_str[7: len(my_str) - 2]\n",
    "                continue\n",
    "            \n",
    "            # Checks\n",
    "            if t_1 in line:\n",
    "                is_scrollable = True\n",
    "            elif t_2 in line:\n",
    "                is_reorderable = True\n",
    "            elif t_3 in line:\n",
    "                is_navigatable = True\n",
    "            elif t_4 in line:\n",
    "                is_selectable = True\n",
    "            elif t_5 in line:\n",
    "                is_resizable = True\n",
    "    \n",
    "                \n",
    "        return error_msg       "
   ]
  },
  {
   "cell_type": "code",
   "execution_count": 5,
   "id": "ff5c2e13",
   "metadata": {},
   "outputs": [],
   "source": [
    "rebate_billing_path = 'c:/projects/stockloans/src/SLTrader/SiteMaps/Web-RebateBilling.sitemap'\n",
    "\n",
    "rebate_billing_dict = {}\n",
    "\n",
    "rebate_billing_dict = parse_xml_sitemap(rebate_billing_path)"
   ]
  },
  {
   "cell_type": "code",
   "execution_count": 6,
   "id": "e95d1839",
   "metadata": {},
   "outputs": [
    {
     "data": {
      "text/plain": [
       "{'C:/Projects/StockLoans/Src/SLTrader/Areas/RebateBilling/Views/Groups/_AccountMaintenance.cshtml': ['not Reorderable in grid GroupAccountDetails'],\n",
       " 'C:/Projects/StockLoans/Src/SLTrader/Areas/RebateBilling/Views/Groups/_IssueMaintenance.cshtml': ['not Reorderable in grid RebateBillingIssueOverrideDetails'],\n",
       " 'C:/Projects/StockLoans/Src/SLTrader/Areas/RebateBilling/Views/RebateBilling/_RebateBilling.cshtml': ['not Reorderable in grid RebateBillingSummaryGrid',\n",
       "  'not Reorderable in grid RebateBillingItemGrid'],\n",
       " 'C:/Projects/StockLoans/Src/SLTrader/Areas/DomesticTrading/Views/FundingRates/_FeeTypes.cshtml': ['not Reorderable in grid FeeTypeGrid',\n",
       "  'not Reorderable in grid FundingRateGrid'],\n",
       " 'C:/Projects/StockLoans/Src/SLTrader/Areas/RebateBilling/Views/Research/_Contracts.cshtml': ['not Reorderable in grid ContractDetails'],\n",
       " 'C:/Projects/StockLoans/Src/SLTrader/Areas/RebateBilling/Views/Research/_Fails.cshtml': ['not Reorderable in grid FailDetails'],\n",
       " 'C:/Projects/StockLoans/Src/SLTrader/Areas/RebateBilling/Views/Research/_StockRecord.cshtml': ['not Reorderable in grid StockRecordDetails'],\n",
       " 'C:/Projects/StockLoans/Src/SLTrader/Areas/DomesticTrading/Views/Contract/_ContractProfitLoss.cshtml': []}"
      ]
     },
     "execution_count": 6,
     "metadata": {},
     "output_type": "execute_result"
    }
   ],
   "source": [
    "check_report = {}\n",
    "\n",
    "for i in rebate_billing_dict:\n",
    "    if isinstance(rebate_billing_dict[i], dict):\n",
    "        for j in rebate_billing_dict[i]:\n",
    "            my_path = rebate_billing_dict[i][j]\n",
    "            my_error_msg = deafult_column_settings_check(my_path)\n",
    "            check_report[my_path] = my_error_msg\n",
    "    elif isinstance(rebate_billing_dict[i], str):\n",
    "        my_path = rebate_billing_dict[i]\n",
    "        my_error_msg = deafult_column_settings_check(my_path)\n",
    "        check_report[my_path] = my_error_msg\n",
    "        \n",
    "check_report"
   ]
  }
 ],
 "metadata": {
  "kernelspec": {
   "display_name": "Python 3 (ipykernel)",
   "language": "python",
   "name": "python3"
  },
  "language_info": {
   "codemirror_mode": {
    "name": "ipython",
    "version": 3
   },
   "file_extension": ".py",
   "mimetype": "text/x-python",
   "name": "python",
   "nbconvert_exporter": "python",
   "pygments_lexer": "ipython3",
   "version": "3.9.12"
  }
 },
 "nbformat": 4,
 "nbformat_minor": 5
}
